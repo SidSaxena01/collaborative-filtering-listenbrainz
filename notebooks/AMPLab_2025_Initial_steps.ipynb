{
  "nbformat": 4,
  "nbformat_minor": 0,
  "metadata": {
    "colab": {
      "provenance": []
    },
    "kernelspec": {
      "name": "python3",
      "display_name": "Python 3"
    },
    "language_info": {
      "name": "python"
    },
    "widgets": {
      "application/vnd.jupyter.widget-state+json": {
        "4c1d52f4fa8b4413af45549f3aacb734": {
          "model_module": "@jupyter-widgets/controls",
          "model_name": "HBoxModel",
          "model_module_version": "1.5.0",
          "state": {
            "_dom_classes": [],
            "_model_module": "@jupyter-widgets/controls",
            "_model_module_version": "1.5.0",
            "_model_name": "HBoxModel",
            "_view_count": null,
            "_view_module": "@jupyter-widgets/controls",
            "_view_module_version": "1.5.0",
            "_view_name": "HBoxView",
            "box_style": "",
            "children": [
              "IPY_MODEL_5c26f234183549b59f50385240b3e872",
              "IPY_MODEL_59b8d02620eb42ad9e66c169d451ec57",
              "IPY_MODEL_a1eca46ba5f84a7fb7ebd6b355acb97b"
            ],
            "layout": "IPY_MODEL_9ff29a7a30fe4d669e0c079f23401fbe"
          }
        },
        "5c26f234183549b59f50385240b3e872": {
          "model_module": "@jupyter-widgets/controls",
          "model_name": "HTMLModel",
          "model_module_version": "1.5.0",
          "state": {
            "_dom_classes": [],
            "_model_module": "@jupyter-widgets/controls",
            "_model_module_version": "1.5.0",
            "_model_name": "HTMLModel",
            "_view_count": null,
            "_view_module": "@jupyter-widgets/controls",
            "_view_module_version": "1.5.0",
            "_view_name": "HTMLView",
            "description": "",
            "description_tooltip": null,
            "layout": "IPY_MODEL_205210dc00db483a8c497aad2bce4d87",
            "placeholder": "​",
            "style": "IPY_MODEL_57edfa8f92ae415e8e5ad65685390ef1",
            "value": "100%"
          }
        },
        "59b8d02620eb42ad9e66c169d451ec57": {
          "model_module": "@jupyter-widgets/controls",
          "model_name": "FloatProgressModel",
          "model_module_version": "1.5.0",
          "state": {
            "_dom_classes": [],
            "_model_module": "@jupyter-widgets/controls",
            "_model_module_version": "1.5.0",
            "_model_name": "FloatProgressModel",
            "_view_count": null,
            "_view_module": "@jupyter-widgets/controls",
            "_view_module_version": "1.5.0",
            "_view_name": "ProgressView",
            "bar_style": "success",
            "description": "",
            "description_tooltip": null,
            "layout": "IPY_MODEL_989aef6804bf496ab74b2abc39a81a03",
            "max": 15,
            "min": 0,
            "orientation": "horizontal",
            "style": "IPY_MODEL_258eb778a7ca4c4782740a6a8cd8fce7",
            "value": 15
          }
        },
        "a1eca46ba5f84a7fb7ebd6b355acb97b": {
          "model_module": "@jupyter-widgets/controls",
          "model_name": "HTMLModel",
          "model_module_version": "1.5.0",
          "state": {
            "_dom_classes": [],
            "_model_module": "@jupyter-widgets/controls",
            "_model_module_version": "1.5.0",
            "_model_name": "HTMLModel",
            "_view_count": null,
            "_view_module": "@jupyter-widgets/controls",
            "_view_module_version": "1.5.0",
            "_view_name": "HTMLView",
            "description": "",
            "description_tooltip": null,
            "layout": "IPY_MODEL_9d7147276be04bc8889f005d37e5f43d",
            "placeholder": "​",
            "style": "IPY_MODEL_80642bad0d7a40c7b73fb065fb0ff597",
            "value": " 15/15 [02:32&lt;00:00, 10.14s/it]"
          }
        },
        "9ff29a7a30fe4d669e0c079f23401fbe": {
          "model_module": "@jupyter-widgets/base",
          "model_name": "LayoutModel",
          "model_module_version": "1.2.0",
          "state": {
            "_model_module": "@jupyter-widgets/base",
            "_model_module_version": "1.2.0",
            "_model_name": "LayoutModel",
            "_view_count": null,
            "_view_module": "@jupyter-widgets/base",
            "_view_module_version": "1.2.0",
            "_view_name": "LayoutView",
            "align_content": null,
            "align_items": null,
            "align_self": null,
            "border": null,
            "bottom": null,
            "display": null,
            "flex": null,
            "flex_flow": null,
            "grid_area": null,
            "grid_auto_columns": null,
            "grid_auto_flow": null,
            "grid_auto_rows": null,
            "grid_column": null,
            "grid_gap": null,
            "grid_row": null,
            "grid_template_areas": null,
            "grid_template_columns": null,
            "grid_template_rows": null,
            "height": null,
            "justify_content": null,
            "justify_items": null,
            "left": null,
            "margin": null,
            "max_height": null,
            "max_width": null,
            "min_height": null,
            "min_width": null,
            "object_fit": null,
            "object_position": null,
            "order": null,
            "overflow": null,
            "overflow_x": null,
            "overflow_y": null,
            "padding": null,
            "right": null,
            "top": null,
            "visibility": null,
            "width": null
          }
        },
        "205210dc00db483a8c497aad2bce4d87": {
          "model_module": "@jupyter-widgets/base",
          "model_name": "LayoutModel",
          "model_module_version": "1.2.0",
          "state": {
            "_model_module": "@jupyter-widgets/base",
            "_model_module_version": "1.2.0",
            "_model_name": "LayoutModel",
            "_view_count": null,
            "_view_module": "@jupyter-widgets/base",
            "_view_module_version": "1.2.0",
            "_view_name": "LayoutView",
            "align_content": null,
            "align_items": null,
            "align_self": null,
            "border": null,
            "bottom": null,
            "display": null,
            "flex": null,
            "flex_flow": null,
            "grid_area": null,
            "grid_auto_columns": null,
            "grid_auto_flow": null,
            "grid_auto_rows": null,
            "grid_column": null,
            "grid_gap": null,
            "grid_row": null,
            "grid_template_areas": null,
            "grid_template_columns": null,
            "grid_template_rows": null,
            "height": null,
            "justify_content": null,
            "justify_items": null,
            "left": null,
            "margin": null,
            "max_height": null,
            "max_width": null,
            "min_height": null,
            "min_width": null,
            "object_fit": null,
            "object_position": null,
            "order": null,
            "overflow": null,
            "overflow_x": null,
            "overflow_y": null,
            "padding": null,
            "right": null,
            "top": null,
            "visibility": null,
            "width": null
          }
        },
        "57edfa8f92ae415e8e5ad65685390ef1": {
          "model_module": "@jupyter-widgets/controls",
          "model_name": "DescriptionStyleModel",
          "model_module_version": "1.5.0",
          "state": {
            "_model_module": "@jupyter-widgets/controls",
            "_model_module_version": "1.5.0",
            "_model_name": "DescriptionStyleModel",
            "_view_count": null,
            "_view_module": "@jupyter-widgets/base",
            "_view_module_version": "1.2.0",
            "_view_name": "StyleView",
            "description_width": ""
          }
        },
        "989aef6804bf496ab74b2abc39a81a03": {
          "model_module": "@jupyter-widgets/base",
          "model_name": "LayoutModel",
          "model_module_version": "1.2.0",
          "state": {
            "_model_module": "@jupyter-widgets/base",
            "_model_module_version": "1.2.0",
            "_model_name": "LayoutModel",
            "_view_count": null,
            "_view_module": "@jupyter-widgets/base",
            "_view_module_version": "1.2.0",
            "_view_name": "LayoutView",
            "align_content": null,
            "align_items": null,
            "align_self": null,
            "border": null,
            "bottom": null,
            "display": null,
            "flex": null,
            "flex_flow": null,
            "grid_area": null,
            "grid_auto_columns": null,
            "grid_auto_flow": null,
            "grid_auto_rows": null,
            "grid_column": null,
            "grid_gap": null,
            "grid_row": null,
            "grid_template_areas": null,
            "grid_template_columns": null,
            "grid_template_rows": null,
            "height": null,
            "justify_content": null,
            "justify_items": null,
            "left": null,
            "margin": null,
            "max_height": null,
            "max_width": null,
            "min_height": null,
            "min_width": null,
            "object_fit": null,
            "object_position": null,
            "order": null,
            "overflow": null,
            "overflow_x": null,
            "overflow_y": null,
            "padding": null,
            "right": null,
            "top": null,
            "visibility": null,
            "width": null
          }
        },
        "258eb778a7ca4c4782740a6a8cd8fce7": {
          "model_module": "@jupyter-widgets/controls",
          "model_name": "ProgressStyleModel",
          "model_module_version": "1.5.0",
          "state": {
            "_model_module": "@jupyter-widgets/controls",
            "_model_module_version": "1.5.0",
            "_model_name": "ProgressStyleModel",
            "_view_count": null,
            "_view_module": "@jupyter-widgets/base",
            "_view_module_version": "1.2.0",
            "_view_name": "StyleView",
            "bar_color": null,
            "description_width": ""
          }
        },
        "9d7147276be04bc8889f005d37e5f43d": {
          "model_module": "@jupyter-widgets/base",
          "model_name": "LayoutModel",
          "model_module_version": "1.2.0",
          "state": {
            "_model_module": "@jupyter-widgets/base",
            "_model_module_version": "1.2.0",
            "_model_name": "LayoutModel",
            "_view_count": null,
            "_view_module": "@jupyter-widgets/base",
            "_view_module_version": "1.2.0",
            "_view_name": "LayoutView",
            "align_content": null,
            "align_items": null,
            "align_self": null,
            "border": null,
            "bottom": null,
            "display": null,
            "flex": null,
            "flex_flow": null,
            "grid_area": null,
            "grid_auto_columns": null,
            "grid_auto_flow": null,
            "grid_auto_rows": null,
            "grid_column": null,
            "grid_gap": null,
            "grid_row": null,
            "grid_template_areas": null,
            "grid_template_columns": null,
            "grid_template_rows": null,
            "height": null,
            "justify_content": null,
            "justify_items": null,
            "left": null,
            "margin": null,
            "max_height": null,
            "max_width": null,
            "min_height": null,
            "min_width": null,
            "object_fit": null,
            "object_position": null,
            "order": null,
            "overflow": null,
            "overflow_x": null,
            "overflow_y": null,
            "padding": null,
            "right": null,
            "top": null,
            "visibility": null,
            "width": null
          }
        },
        "80642bad0d7a40c7b73fb065fb0ff597": {
          "model_module": "@jupyter-widgets/controls",
          "model_name": "DescriptionStyleModel",
          "model_module_version": "1.5.0",
          "state": {
            "_model_module": "@jupyter-widgets/controls",
            "_model_module_version": "1.5.0",
            "_model_name": "DescriptionStyleModel",
            "_view_count": null,
            "_view_module": "@jupyter-widgets/base",
            "_view_module_version": "1.2.0",
            "_view_name": "StyleView",
            "description_width": ""
          }
        }
      }
    }
  },
  "cells": [
    {
      "cell_type": "markdown",
      "source": [
        "# AMPLab 2025 Processing large datasets and Collaborative Filtering"
      ],
      "metadata": {
        "id": "AIApL1RtQ9CR"
      }
    },
    {
      "cell_type": "markdown",
      "source": [
        "Install dependencies in a separate cell, so that if people run it in jupyter with dependencies already present, they can choose to omit it.\n",
        "\n",
        "We also install the `zstd` commandline tool to process our data files"
      ],
      "metadata": {
        "id": "fv5l20c8uEi2"
      }
    },
    {
      "cell_type": "code",
      "execution_count": null,
      "metadata": {
        "colab": {
          "base_uri": "https://localhost:8080/"
        },
        "id": "Q-nQKZ1bgEDZ",
        "outputId": "d87ddf9a-9108-45c9-bbd3-6fda87695c41"
      },
      "outputs": [
        {
          "output_type": "stream",
          "name": "stdout",
          "text": [
            "Collecting implicit\n",
            "  Downloading implicit-0.7.2-cp311-cp311-manylinux2014_x86_64.whl.metadata (6.1 kB)\n",
            "Requirement already satisfied: numpy in /usr/local/lib/python3.11/dist-packages (1.26.4)\n",
            "Requirement already satisfied: scipy in /usr/local/lib/python3.11/dist-packages (1.13.1)\n",
            "Requirement already satisfied: h5py in /usr/local/lib/python3.11/dist-packages (3.12.1)\n",
            "Requirement already satisfied: tqdm>=4.27 in /usr/local/lib/python3.11/dist-packages (from implicit) (4.67.1)\n",
            "Requirement already satisfied: threadpoolctl in /usr/local/lib/python3.11/dist-packages (from implicit) (3.5.0)\n",
            "Downloading implicit-0.7.2-cp311-cp311-manylinux2014_x86_64.whl (8.9 MB)\n",
            "\u001b[2K   \u001b[90m━━━━━━━━━━━━━━━━━━━━━━━━━━━━━━━━━━━━━━━━\u001b[0m \u001b[32m8.9/8.9 MB\u001b[0m \u001b[31m20.0 MB/s\u001b[0m eta \u001b[36m0:00:00\u001b[0m\n",
            "\u001b[?25hInstalling collected packages: implicit\n",
            "Successfully installed implicit-0.7.2\n"
          ]
        }
      ],
      "source": [
        "%pip install implicit numpy scipy h5py"
      ]
    },
    {
      "cell_type": "code",
      "source": [
        "!apt install -y zstd"
      ],
      "metadata": {
        "colab": {
          "base_uri": "https://localhost:8080/"
        },
        "id": "zyQ_Br9owh7p",
        "outputId": "c9d46353-144c-49b4-ddab-b2faca0e9cb4",
        "collapsed": true
      },
      "execution_count": null,
      "outputs": [
        {
          "output_type": "stream",
          "name": "stdout",
          "text": [
            "Reading package lists... Done\n",
            "Building dependency tree... Done\n",
            "Reading state information... Done\n",
            "The following NEW packages will be installed:\n",
            "  zstd\n",
            "0 upgraded, 1 newly installed, 0 to remove and 49 not upgraded.\n",
            "Need to get 603 kB of archives.\n",
            "After this operation, 1,695 kB of additional disk space will be used.\n",
            "Get:1 http://archive.ubuntu.com/ubuntu jammy/main amd64 zstd amd64 1.4.8+dfsg-3build1 [603 kB]\n",
            "Fetched 603 kB in 0s (2,430 kB/s)\n",
            "Selecting previously unselected package zstd.\n",
            "(Reading database ... 124788 files and directories currently installed.)\n",
            "Preparing to unpack .../zstd_1.4.8+dfsg-3build1_amd64.deb ...\n",
            "Unpacking zstd (1.4.8+dfsg-3build1) ...\n",
            "Setting up zstd (1.4.8+dfsg-3build1) ...\n",
            "Processing triggers for man-db (2.10.2-1) ...\n"
          ]
        }
      ]
    },
    {
      "cell_type": "code",
      "source": [
        "from google.colab import drive\n",
        "drive.mount('/content/drive')"
      ],
      "metadata": {
        "colab": {
          "base_uri": "https://localhost:8080/"
        },
        "id": "nVmYiaADn68M",
        "outputId": "a6bf4eca-7d28-4c00-9073-aa107a8837c2"
      },
      "execution_count": null,
      "outputs": [
        {
          "output_type": "stream",
          "name": "stdout",
          "text": [
            "Mounted at /content/drive\n"
          ]
        }
      ]
    },
    {
      "cell_type": "code",
      "source": [
        "import collections\n",
        "import csv\n",
        "import json\n",
        "import os\n",
        "import shutil\n",
        "import glob\n",
        "\n",
        "import pandas as pd"
      ],
      "metadata": {
        "id": "m-LvYZa-TDKT"
      },
      "execution_count": null,
      "outputs": []
    },
    {
      "cell_type": "markdown",
      "source": [
        "### Memory management\n",
        "Here's a quick way of seeing what variables are using up a lot of memory.\n",
        "\n",
        "```py\n",
        "import sys\n",
        "global_keys = list(globals().keys())\n",
        "for k in global_keys:\n",
        "  if not k.startswith(\"_\"):\n",
        "    size = sys.getsizeof(globals()[k])\n",
        "    if size > 10000:\n",
        "      print(f\"{k}: {round(size / 1024 / 1024, 2)}MB\")\n",
        "```\n",
        "\n",
        "You can delete any variable by running\n",
        "\n",
        "```py\n",
        "thevariable = None\n",
        "```\n",
        "\n",
        "which will cause python to garbage-collect it and free up the memory. It's worth doing this from time to time in colab if you are at risk of running out of memory in the runtime.\n"
      ],
      "metadata": {
        "id": "FeS86csquN2P"
      }
    },
    {
      "cell_type": "markdown",
      "source": [
        "# Part 1: Data processing\n",
        "\n",
        "## Step 1: Reading initial data files"
      ],
      "metadata": {
        "id": "bmO7oqwz6kho"
      }
    },
    {
      "cell_type": "code",
      "source": [
        "# Where the original data files are - use a google drive shortcut so that you don't need to copy them\n",
        "data_root = \"/content/drive/MyDrive/amplab/2025-materials\"\n",
        "# Local data directory for items that you don't want to lose\n",
        "working_root = \"/content/drive/MyDrive/amplab-working\"\n",
        "# Temporary location that you can use while the colab is running\n",
        "scratch_root = \"/content/amplab-scratch\"\n",
        "os.makedirs(working_root, exist_ok=True)\n",
        "os.makedirs(scratch_root, exist_ok=True)"
      ],
      "metadata": {
        "id": "9cB8FZRdr6qB"
      },
      "execution_count": null,
      "outputs": []
    },
    {
      "cell_type": "markdown",
      "source": [
        "Double-check the data directory to see what's there"
      ],
      "metadata": {
        "id": "QXZeELsnuTJQ"
      }
    },
    {
      "cell_type": "code",
      "source": [
        "!ls -lh {data_root}"
      ],
      "metadata": {
        "id": "ZTJc4yvlRdqL",
        "outputId": "5958f625-28f6-4373-d96f-3b4829adc9c1",
        "colab": {
          "base_uri": "https://localhost:8080/"
        }
      },
      "execution_count": null,
      "outputs": [
        {
          "output_type": "stream",
          "name": "stdout",
          "text": [
            "total 14G\n",
            "-rw------- 1 root root 618M Jan 22 14:41 10.listens.zst\n",
            "-rw------- 1 root root 619M Jan 22 14:41 11.listens.zst\n",
            "-rw------- 1 root root 636M Jan 22 14:41 12.listens.zst\n",
            "-rw------- 1 root root 756M Jan 22 14:40 1.listens.zst\n",
            "-rw------- 1 root root 711M Jan 22 14:42 2.listens.zst\n",
            "-rw------- 1 root root 738M Jan 22 14:42 3.listens.zst\n",
            "-rw------- 1 root root 732M Jan 22 14:43 4.listens.zst\n",
            "-rw------- 1 root root 708M Jan 22 14:43 5.listens.zst\n",
            "-rw------- 1 root root 627M Jan 22 14:44 6.listens.zst\n",
            "-rw------- 1 root root 645M Jan 22 14:44 7.listens.zst\n",
            "-rw------- 1 root root 597M Jan 22 14:44 8.listens.zst\n",
            "-rw------- 1 root root 590M Jan 22 14:45 9.listens.zst\n",
            "-rw------- 1 root root 1.5G Jan 22 14:39 canonical_musicbrainz_data.csv.zst\n",
            "-rw------- 1 root root 237M Jan 27 12:25 canonical_recording_redirect.csv.zst\n",
            "-rw------- 1 root root 1.9K Jan 29 15:32 listenbrainz_model.py\n",
            "-rw------- 1 root root 3.4G Jan 23 15:44 listenbrainz_msid_mapping.csv.zst\n",
            "-rw------- 1 root root 106M Jan 22 14:38 musicbrainz_artist_credits.csv\n",
            "-rw------- 1 root root 123M Jan 22 14:38 musicbrainz_artist.csv\n",
            "drwx------ 2 root root 4.0K Jan 29 14:54 __pycache__\n"
          ]
        }
      ]
    },
    {
      "cell_type": "markdown",
      "source": [
        "The data files are compressed using the zstandard format. Colab has a \"local disk\" that we can use temporarily. This is not saved when the notebook notebook is closed, but is faster than reading directly from google drive. We can copy a file to our drive and uncompress it to inspect it.\n",
        "\n",
        "We know that a data file is in \"jsonlines\" format, where each line of the file is a json document. We can inspect the first line to see the structure of this document, and see that we want to read the `user_id` and `recording_msid` fields."
      ],
      "metadata": {
        "id": "Kht8Vc9luiDQ"
      }
    },
    {
      "cell_type": "code",
      "source": [
        "scratch_listen_1_compressed = shutil.copy2(os.path.join(data_root, \"1.listens.zst\"), scratch_root)\n",
        "!unzstd {scratch_listen_1_compressed}\n",
        "!head -2 {os.path.join(scratch_root, \"1.listens\")}"
      ],
      "metadata": {
        "colab": {
          "base_uri": "https://localhost:8080/"
        },
        "id": "jJslTYn2xho-",
        "outputId": "be258a08-b7f9-4c54-a4aa-20b6c6bcaef3"
      },
      "execution_count": null,
      "outputs": [
        {
          "output_type": "stream",
          "name": "stdout",
          "text": [
            "/content/amplab-scratch/1.listens.zst: 5199323140 bytes \n",
            "{\"user_id\":24848,\"user_name\":\"Tarocus\",\"timestamp\":1704067200,\"track_metadata\":{\"track_name\":\"Kapitel 13 - Der Krieg der Knöpfe\",\"artist_name\":\"...mit Pauken und Trompeten, Louis Pergaud, Laura Maire, Jens Wawrczeck, Stefan Kaminski\",\"release_name\":\"Der Krieg der Knöpfe\",\"additional_info\":{\"isrc\":\"DEXO42360570\",\"discnumber\":1,\"origin_url\":\"https://open.spotify.com/track/33nDWmcHOUunB26hLRN1oz\",\"spotify_id\":\"https://open.spotify.com/track/33nDWmcHOUunB26hLRN1oz\",\"duration_ms\":210848,\"tracknumber\":13,\"artist_names\":[\"...mit Pauken und Trompeten\",\"Louis Pergaud\",\"Laura Maire\",\"Jens Wawrczeck\",\"Stefan Kaminski\"],\"music_service\":\"spotify.com\",\"spotify_album_id\":\"https://open.spotify.com/album/0OSmDFaDD2tzOFCyECMI7x\",\"submission_client\":\"listenbrainz\",\"spotify_artist_ids\":[\"https://open.spotify.com/artist/7avdi56utuo9mPydRE5gUL\",\"https://open.spotify.com/artist/4en4B4bJyaig2IQoRF7Cwo\",\"https://open.spotify.com/artist/6UoPOljQFeWdRBinxzJ9Ox\",\"https://open.spotify.com/artist/2Tv6Xbbismxj97q657wtJF\",\"https://open.spotify.com/artist/0JSxbQaj2iegWrm6EGsD8p\"],\"release_artist_name\":\"...mit Pauken und Trompeten\",\"release_artist_names\":[\"...mit Pauken und Trompeten\"],\"spotify_album_artist_ids\":[\"https://open.spotify.com/artist/7avdi56utuo9mPydRE5gUL\"],\"recording_msid\":\"92fc76b4-bda0-4c2c-82b9-1ef4d489c071\"}},\"recording_msid\":\"92fc76b4-bda0-4c2c-82b9-1ef4d489c071\"}\n",
            "{\"user_id\":24076,\"user_name\":\"vestigeofiiid\",\"timestamp\":1704067200,\"track_metadata\":{\"track_name\":\"Big Bad Wolf\",\"artist_name\":\"In This Moment\",\"release_name\":\"Black Widow\",\"additional_info\":{\"lastfm_track_mbid\":\"06e4cfec-6b00-4da6-b097-ae86d3f96825\",\"submission_client\":\"ListenBrainz lastfm importer\",\"lastfm_artist_mbid\":\"29266b3d-b5ae-4d09-b721-326246adf68f\",\"lastfm_release_mbid\":\"1f46744a-4ffc-4cf6-b3b0-f744752c90d5\",\"recording_msid\":\"002091de-47f9-49d0-8da9-9af50e28f06e\"}},\"recording_msid\":\"002091de-47f9-49d0-8da9-9af50e28f06e\"}\n"
          ]
        }
      ]
    },
    {
      "cell_type": "markdown",
      "source": [
        "We know that a data file is in \"jsonlines\" format, where each line of the file is a json document. We can inspect the first line to see the structure of this document, and see that we want to read the `user_id` and `recording_msid` fields."
      ],
      "metadata": {
        "id": "h1MD3das6-Ex"
      }
    },
    {
      "cell_type": "code",
      "source": [
        "with open(os.path.join(scratch_root, \"1.listens\")) as fp:\n",
        "  line = fp.readline()\n",
        "  line_json = json.loads(line)\n",
        "  print(json.dumps(line_json, indent=4))"
      ],
      "metadata": {
        "colab": {
          "base_uri": "https://localhost:8080/"
        },
        "id": "qPX9mH8l68ou",
        "outputId": "52224218-e00c-4360-8e8b-c97fb38e1b66"
      },
      "execution_count": null,
      "outputs": [
        {
          "output_type": "stream",
          "name": "stdout",
          "text": [
            "{\n",
            "    \"user_id\": 24848,\n",
            "    \"user_name\": \"Tarocus\",\n",
            "    \"timestamp\": 1704067200,\n",
            "    \"track_metadata\": {\n",
            "        \"track_name\": \"Kapitel 13 - Der Krieg der Kn\\u00f6pfe\",\n",
            "        \"artist_name\": \"...mit Pauken und Trompeten, Louis Pergaud, Laura Maire, Jens Wawrczeck, Stefan Kaminski\",\n",
            "        \"release_name\": \"Der Krieg der Kn\\u00f6pfe\",\n",
            "        \"additional_info\": {\n",
            "            \"isrc\": \"DEXO42360570\",\n",
            "            \"discnumber\": 1,\n",
            "            \"origin_url\": \"https://open.spotify.com/track/33nDWmcHOUunB26hLRN1oz\",\n",
            "            \"spotify_id\": \"https://open.spotify.com/track/33nDWmcHOUunB26hLRN1oz\",\n",
            "            \"duration_ms\": 210848,\n",
            "            \"tracknumber\": 13,\n",
            "            \"artist_names\": [\n",
            "                \"...mit Pauken und Trompeten\",\n",
            "                \"Louis Pergaud\",\n",
            "                \"Laura Maire\",\n",
            "                \"Jens Wawrczeck\",\n",
            "                \"Stefan Kaminski\"\n",
            "            ],\n",
            "            \"music_service\": \"spotify.com\",\n",
            "            \"spotify_album_id\": \"https://open.spotify.com/album/0OSmDFaDD2tzOFCyECMI7x\",\n",
            "            \"submission_client\": \"listenbrainz\",\n",
            "            \"spotify_artist_ids\": [\n",
            "                \"https://open.spotify.com/artist/7avdi56utuo9mPydRE5gUL\",\n",
            "                \"https://open.spotify.com/artist/4en4B4bJyaig2IQoRF7Cwo\",\n",
            "                \"https://open.spotify.com/artist/6UoPOljQFeWdRBinxzJ9Ox\",\n",
            "                \"https://open.spotify.com/artist/2Tv6Xbbismxj97q657wtJF\",\n",
            "                \"https://open.spotify.com/artist/0JSxbQaj2iegWrm6EGsD8p\"\n",
            "            ],\n",
            "            \"release_artist_name\": \"...mit Pauken und Trompeten\",\n",
            "            \"release_artist_names\": [\n",
            "                \"...mit Pauken und Trompeten\"\n",
            "            ],\n",
            "            \"spotify_album_artist_ids\": [\n",
            "                \"https://open.spotify.com/artist/7avdi56utuo9mPydRE5gUL\"\n",
            "            ],\n",
            "            \"recording_msid\": \"92fc76b4-bda0-4c2c-82b9-1ef4d489c071\"\n",
            "        }\n",
            "    },\n",
            "    \"recording_msid\": \"92fc76b4-bda0-4c2c-82b9-1ef4d489c071\"\n",
            "}\n"
          ]
        }
      ]
    },
    {
      "cell_type": "markdown",
      "source": [
        "We can read a file one line at a time, parse the json, and save the user id and recording msid.\n",
        "Note that if you do this for all files then the `data` variable may cause you to run out of memory. Consider this in your work"
      ],
      "metadata": {
        "id": "x_hHyud7ur_5"
      }
    },
    {
      "cell_type": "code",
      "source": [
        "%%time\n",
        "data = []\n",
        "with open(os.path.join(scratch_root, \"1.listens\")) as fp:\n",
        "  for line in fp:\n",
        "    j = json.loads(line)\n",
        "    user_id = j['user_id']\n",
        "    recording_msid = j['recording_msid']\n",
        "    data.append([user_id, recording_msid])"
      ],
      "metadata": {
        "colab": {
          "base_uri": "https://localhost:8080/"
        },
        "id": "u2bx23yosJov",
        "outputId": "59deb09e-9d11-4bf5-bef1-34585b47122f"
      },
      "execution_count": null,
      "outputs": [
        {
          "output_type": "stream",
          "name": "stdout",
          "text": [
            "CPU times: user 2min 13s, sys: 4.75 s, total: 2min 18s\n",
            "Wall time: 2min 45s\n"
          ]
        }
      ]
    },
    {
      "cell_type": "code",
      "source": [
        "# Save the data that we extracted to a single file, in case the colab runtime quits\n",
        "# The arguments to `open` are best practices when reading CSV files in python, although I don't always use them\n",
        "# https://docs.python.org/3/library/csv.html#csv.reader\n",
        "with open(os.path.join(working_root, \"userid-msid.csv\"), \"w\", newline='', encoding='utf-8') as fp:\n",
        "    w = csv.writer(fp)\n",
        "    w.writerows(data)"
      ],
      "metadata": {
        "id": "zq3ZW0xQsMLp"
      },
      "execution_count": null,
      "outputs": []
    },
    {
      "cell_type": "code",
      "source": [
        "# Load the data from the previous cell again, if we stopped at this point\n",
        "data = []\n",
        "with open(os.path.join(working_root, \"userid-msid.csv\"), \"r\", newline='', encoding='utf-8') as fp:\n",
        "    r = csv.reader(fp)\n",
        "    for line in r:\n",
        "        data.append(line)"
      ],
      "metadata": {
        "id": "bScyYjjXsMxw"
      },
      "execution_count": null,
      "outputs": []
    },
    {
      "cell_type": "code",
      "source": [
        "# Double-check the total number of lines of data we have\n",
        "!wc -l {os.path.join(working_root, \"userid-msid.csv\")}"
      ],
      "metadata": {
        "colab": {
          "base_uri": "https://localhost:8080/"
        },
        "id": "eEtXTmQLwN3b",
        "outputId": "dbdbff23-d011-4467-ba9e-994abb20dc54"
      },
      "execution_count": null,
      "outputs": [
        {
          "output_type": "stream",
          "name": "stdout",
          "text": [
            "8839350 /content/drive/MyDrive/amplab-working/userid-msid.csv\n"
          ]
        }
      ]
    },
    {
      "cell_type": "markdown",
      "source": [
        "## Step 2: Mapping MSID to MBID"
      ],
      "metadata": {
        "id": "d8OVXMEV6z4r"
      }
    },
    {
      "cell_type": "code",
      "source": [
        "listenbrainz_msid_mapping_fn = shutil.copy2(os.path.join(data_root, \"listenbrainz_msid_mapping.csv.zst\"), scratch_root)\n",
        "!unzstd {listenbrainz_msid_mapping_fn}"
      ],
      "metadata": {
        "colab": {
          "base_uri": "https://localhost:8080/"
        },
        "id": "X7ZoHu4B0Jwh",
        "outputId": "0610ce78-571a-402c-bf2f-2320c53f4471"
      },
      "execution_count": null,
      "outputs": [
        {
          "output_type": "stream",
          "name": "stdout",
          "text": [
            "/content/amplab-scratch/listenbrainz_msid_mapping.csv.zst: 8215704700 bytes \n"
          ]
        }
      ]
    },
    {
      "cell_type": "markdown",
      "source": [
        "Try and load the mapping CSV into memory. Ideally I want to have a dictionary such as:\n",
        "\n",
        "```py\n",
        "mapping = {\n",
        "  \"msid1\": \"mbid1\",\n",
        "  \"msid2\": \"mbid\"\n",
        "}\n",
        "```\n",
        "\n",
        "which would allow us to look up an msid in the `data` list above, with just\n",
        "\n",
        "```py\n",
        "mbid = mapping[data[0][1]]\n",
        "```\n",
        "\n",
        "Unfortunately, this CSV file is too large for colab, and it will run out of memory before loading the entire file.\n",
        "\n",
        "However, we can see that the size of the mapping file (111 million rows) is much larger than the number of unique MSIDs that we have in the data file"
      ],
      "metadata": {
        "id": "Uell7jULut-8"
      }
    },
    {
      "cell_type": "code",
      "source": [
        "# On colab this cell will run out of memory\n",
        "mapping = {}\n",
        "with open(os.path.join(scratch_root, \"listenbrainz_msid_mapping.csv\")) as fp:\n",
        "    r = csv.reader(fp)\n",
        "    # omit header\n",
        "    next(r)\n",
        "    for line in r:\n",
        "        mapping[line[0]] = line[1]"
      ],
      "metadata": {
        "id": "aa4KOAO4sRHW"
      },
      "execution_count": null,
      "outputs": []
    },
    {
      "cell_type": "code",
      "source": [
        "!head -40 {os.path.join(scratch_root, \"listenbrainz_msid_mapping.csv\")}"
      ],
      "metadata": {
        "colab": {
          "base_uri": "https://localhost:8080/"
        },
        "id": "jW2C-M9cxaL-",
        "outputId": "c926cc3c-db38-4839-a748-ba4c7f5cb9fa"
      },
      "execution_count": null,
      "outputs": [
        {
          "output_type": "stream",
          "name": "stdout",
          "text": [
            "recording_msid,recording_mbid,match_type\n",
            "13ca445f-c0dd-4f64-8726-7da78a3821aa,,no_match\n",
            "54a40ef8-6bfe-4803-b74a-7b93885c2f01,,no_match\n",
            "21c07966-97c6-4e02-a575-e1b2fadf0d34,,no_match\n",
            "3b438b25-b9ad-480f-b248-bd06281919e0,,no_match\n",
            "26d8cc2b-c249-4b70-9f16-4eea1419303c,,no_match\n",
            "bf3fe1e0-7ae6-4e57-a38e-6ac7d42d33c3,,no_match\n",
            "937d9d97-ba8b-4ff4-9af7-1b4a485945c1,,no_match\n",
            "0e9230f2-1d9d-47ab-a44f-dbc788cfbdf1,,no_match\n",
            "2c9111a7-96e6-4083-8b45-78cadb11796e,,no_match\n",
            "012868b2-f6d7-40e6-80a4-d89d077e3d9e,,no_match\n",
            "03feccff-3632-4acf-974b-b787ff7e9bbf,,no_match\n",
            "364902a8-1067-4804-b8be-d6b801ee4179,,no_match\n",
            "13a44caa-8109-46ef-ac25-0e89785bdd18,,no_match\n",
            "273849c3-b1d7-4656-bf67-748c6cac2179,,no_match\n",
            "da3aea98-c857-4eb7-b4d6-cce8aa0318d7,,no_match\n",
            "c514427c-89e1-4746-86bb-49f5d5c8e04a,,no_match\n",
            "67c2a304-1ff5-44ea-a076-9d797ba15c28,,no_match\n",
            "127b9ad4-20d6-49e0-ab82-5aad8d27b5e1,,no_match\n",
            "703adaef-f000-4e6c-bd96-6c9c299af991,,no_match\n",
            "6848ccaf-4942-4fcf-bde3-fbe4e86ede21,,no_match\n",
            "562560cc-a8a0-4857-8e41-35dc8d12ff88,,no_match\n",
            "3a129d6e-99af-460c-ba73-0370015882af,,no_match\n",
            "2912a24b-2895-4591-ac83-ca827fd3f360,,no_match\n",
            "4e50f155-edfb-4fea-b57d-c31bec3abc46,,no_match\n",
            "53228f86-866d-4c46-bf74-aa8cfbcea3e8,d87f867e-9eda-43a6-a45f-faeba1cb441d,exact_match\n",
            "3b6b9eaf-df85-4e85-8d61-406afe8a35a4,c0f27bed-7986-4c88-a9c6-1d16ebc9817b,low_quality\n",
            "891c1359-107e-4a90-98fc-b21b942e300f,543ec930-e1c1-4bb3-aaaf-cb48583fcc49,low_quality\n",
            "bbc5be35-b732-4206-8ae3-ef095060c3d6,65c9cfe2-05f4-45ef-a125-2b38358665f0,exact_match\n",
            "61612055-12bd-4225-8f11-b8036021d72a,66a08ebb-1d9c-4434-bd23-806dda6d2a8d,exact_match\n",
            "5ec25683-f439-42ab-86e9-32b3c9611cdd,e3a5f4f5-2648-4d2a-861f-19524bd558c1,exact_match\n",
            "3f01ed7b-c7b2-42e3-9d28-0e367c4f96db,1dd389b6-cd75-4666-8368-dc01a7d161c9,exact_match\n",
            "e85d90b4-c20c-4d91-aaba-713140de1aad,16fecdbb-4886-46e8-896b-37e78eed633c,exact_match\n",
            "151d14b4-4bfa-438e-904d-0f47c2c109b4,6e6798c0-a7ca-469e-abb3-bc1f87ad6ec4,med_quality\n",
            "5c14b383-4ba4-4fa6-8eaf-ed83d0311b05,961507d0-c2bc-4d69-83c4-f295213bff2b,exact_match\n",
            "ef85039e-4328-408c-afb8-152d37817d00,69291415-fd4e-4c7f-9a81-17a7a60bc60e,exact_match\n",
            "919e9c1e-4353-47fb-b0ba-f344b3fdc760,e241dd9f-0b30-4427-89ea-ba1a8065ee15,exact_match\n",
            "5ff81a61-59c6-4ded-869f-54e161b149a8,75dbbdad-e9fa-46e0-b90f-7085a53bf60e,exact_match\n",
            "5284dd16-cc2b-4981-9527-b7e6e80d98c5,,no_match\n",
            "01c79a31-a6de-4a56-9c95-410a3106af6d,f32d973a-9aef-4d95-ae32-93d75618219b,exact_match\n"
          ]
        }
      ]
    },
    {
      "cell_type": "code",
      "source": [
        "mapping_file = os.path.join(scratch_root, \"listenbrainz_msid_mapping.csv\")\n",
        "!wc -l {mapping_file}"
      ],
      "metadata": {
        "colab": {
          "base_uri": "https://localhost:8080/"
        },
        "id": "zO6cemUg4eGo",
        "outputId": "657f8a69-0eff-4956-ea5b-96e683ac4652"
      },
      "execution_count": null,
      "outputs": [
        {
          "output_type": "stream",
          "name": "stdout",
          "text": [
            "111339170 /content/amplab-scratch/listenbrainz_msid_mapping.csv\n"
          ]
        }
      ]
    },
    {
      "cell_type": "code",
      "source": [
        "unique_msids = set(line[1] for line in data)\n",
        "print(f\"Unique msids: {len(unique_msids)}\")\n",
        "# Note that this is even smaller than the 8.8m lines in the file `userid-msid.csv`, because we're removing duplicates."
      ],
      "metadata": {
        "colab": {
          "base_uri": "https://localhost:8080/"
        },
        "id": "aBExozKX78Ju",
        "outputId": "3cceb94f-7a6d-4a19-9a51-ba9eecf960f6"
      },
      "execution_count": null,
      "outputs": [
        {
          "output_type": "stream",
          "name": "stdout",
          "text": [
            "Unique msids: 3013073\n"
          ]
        }
      ]
    },
    {
      "cell_type": "markdown",
      "source": [
        "Therefore, we can read the mapping file one line at a time and make a new small mapping file containing only the MSID values that we need.\n",
        "\n",
        "**Trick:** This is one of the tricks to work with large amounts of data without loading it into memory. You can read the file one line at a time (python does this if you iterate over a csv reader such as `for line in r`), or you could use `fp.readline`. You could also do a variant of this by reading a data frame in pandas in chunks (e.g. 100,000 lines at a time), and processing each chunk before moving on to the next one."
      ],
      "metadata": {
        "id": "TILt7ZrG78ZH"
      }
    },
    {
      "cell_type": "markdown",
      "source": [
        "I decided to read all lines in the mapping, but you could also decide to use only exact match or high quality results.\n",
        "If you look at the mapping file you can see that the 3rd column contains a \"match_type\" field representing the quality of the match. This can be \"exact_match\", \"high_quality\", \"med_quality\", \"low_quality\", or \"no_match\""
      ],
      "metadata": {
        "id": "vf8dJeo5_CJd"
      }
    },
    {
      "cell_type": "code",
      "source": [
        "!head -1000 {os.path.join(scratch_root, \"listenbrainz_msid_mapping.csv\")} | cut -d, -f3 | sort -u"
      ],
      "metadata": {
        "colab": {
          "base_uri": "https://localhost:8080/"
        },
        "id": "hsmx_i0NwbCb",
        "outputId": "3b2ef127-8bb2-4d31-c5fa-42f75b925676"
      },
      "execution_count": null,
      "outputs": [
        {
          "output_type": "stream",
          "name": "stdout",
          "text": [
            "exact_match\n",
            "high_quality\n",
            "low_quality\n",
            "match_type\n",
            "med_quality\n",
            "no_match\n"
          ]
        }
      ]
    },
    {
      "cell_type": "code",
      "source": [
        "# Here we don't even need to store the entire contents of these files.\n",
        "# Instead we just read the first file 1 line and a time and write a new line directly to the 2nd file if needed.\n",
        "with open(os.path.join(scratch_root, \"listenbrainz_msid_mapping.csv\")) as r_fp, open(os.path.join(scratch_root, \"small_msid_mapping.csv\"), \"w\") as w_fp:\n",
        "    r = csv.reader(r_fp)\n",
        "    w = csv.writer(w_fp)\n",
        "    header = next(r)\n",
        "    w.writerow(header)\n",
        "    for line in r:\n",
        "      if line[0] in unique_msids and line[2] != \"no_match\":\n",
        "        w.writerow(line)"
      ],
      "metadata": {
        "id": "njf_bM8oB1G2"
      },
      "execution_count": null,
      "outputs": []
    },
    {
      "cell_type": "code",
      "source": [
        "highquality_mapping = {}\n",
        "with open(\"listenbrainz_msid_mapping.csv\") as fp:\n",
        "    r = csv.reader(fp)\n",
        "    next(r)\n",
        "    for line in r:\n",
        "        if line[2] == \"exact_match\" or line[2] == \"high_quality\":\n",
        "            highquality_mapping[line[0]] = line[1]"
      ],
      "metadata": {
        "id": "HAsvCEN6sRrB"
      },
      "execution_count": null,
      "outputs": []
    },
    {
      "cell_type": "markdown",
      "source": [
        "Now that we have a small mapping file, we know that it will fit in memory. Until now, `data` has been in memory (a list of userid/msid pairs).\n",
        "\n",
        "We can free up the `data` variable from memory, load the mapping, and then process the \"userid-msid.csv\" file, one line at a time, immediately writing out a new file with the relevant MBID."
      ],
      "metadata": {
        "id": "yJ4hqCri_WvC"
      }
    },
    {
      "cell_type": "code",
      "source": [
        "data = None # throw away our `data` list, this will free memory.\n",
        "smallmapping = {}\n",
        "with open(os.path.join(scratch_root, \"small_msid_mapping.csv\")) as fp:\n",
        "  reader = csv.reader(fp)\n",
        "  next(reader)\n",
        "  for line in reader:\n",
        "    smallmapping[line[0]] = line[1]"
      ],
      "metadata": {
        "id": "3jc7JXRa5-s0"
      },
      "execution_count": null,
      "outputs": []
    },
    {
      "cell_type": "markdown",
      "source": [
        "## Continue here...\n",
        "\n",
        "\n",
        "The remainer of your code to generate the final data file for the collaborative filtering model can go here.\n",
        "\n",
        "Remember to check the number of items in your dataset after applying each data conversion to ensure that you're correctly processing the dataset."
      ],
      "metadata": {
        "id": "-Z1-KiCtvON9"
      }
    },
    {
      "cell_type": "markdown",
      "source": [
        "# Part 2: Collaborative filtering model\n",
        "\n",
        "This part of the assignment is based on the [implicit tutorial](https://benfred.github.io/implicit/tutorial_lastfm.html) and builds a collaborative filtering model. We reuse as much code as possible from this library.\n",
        "\n",
        "We can find this source code on the [project's github page](https://github.com/benfred/implicit), specifically https://github.com/benfred/implicit/blob/main/implicit/datasets/lastfm.py has code which builds the model based on the last.fm dataset.\n",
        "\n",
        "We've extracted the relevant code from this file and modified it for this task. It's in `listenbrainz_model.py`"
      ],
      "metadata": {
        "id": "PKL5JeX3DAdI"
      }
    },
    {
      "cell_type": "markdown",
      "source": [
        "## Step 6: Generate matrix"
      ],
      "metadata": {
        "id": "MQK1rguHOh-m"
      }
    },
    {
      "cell_type": "code",
      "source": [
        "# Add data_root to the python path so that we can load the provided file.\n",
        "# You might want to move this file somewhere else and edit it, update the path as necessary\n",
        "import sys\n",
        "sys.path.append(data_root)"
      ],
      "metadata": {
        "id": "7NXwD-wXsyfy"
      },
      "execution_count": null,
      "outputs": []
    },
    {
      "cell_type": "code",
      "source": [
        "import listenbrainz_model as lb"
      ],
      "metadata": {
        "id": "wj3KofVWs1pW"
      },
      "execution_count": null,
      "outputs": []
    },
    {
      "cell_type": "code",
      "source": [
        "matrix_artists, matrix_users, plays = lb.load_data_matrix(os.path.join(working_root, \"userid-artist-counts.csv\"))"
      ],
      "metadata": {
        "id": "32Sa0EqKs6A3"
      },
      "execution_count": null,
      "outputs": []
    },
    {
      "cell_type": "markdown",
      "source": [
        "## Step 7: Build model"
      ],
      "metadata": {
        "id": "H4RVVZaFOfxI"
      }
    },
    {
      "cell_type": "code",
      "source": [
        "# On colab, this only takes about 2-3 minutes.\n",
        "model = lb.build_model(plays)"
      ],
      "metadata": {
        "colab": {
          "base_uri": "https://localhost:8080/",
          "height": 105,
          "referenced_widgets": [
            "4c1d52f4fa8b4413af45549f3aacb734",
            "5c26f234183549b59f50385240b3e872",
            "59b8d02620eb42ad9e66c169d451ec57",
            "a1eca46ba5f84a7fb7ebd6b355acb97b",
            "9ff29a7a30fe4d669e0c079f23401fbe",
            "205210dc00db483a8c497aad2bce4d87",
            "57edfa8f92ae415e8e5ad65685390ef1",
            "989aef6804bf496ab74b2abc39a81a03",
            "258eb778a7ca4c4782740a6a8cd8fce7",
            "9d7147276be04bc8889f005d37e5f43d",
            "80642bad0d7a40c7b73fb065fb0ff597"
          ]
        },
        "id": "d2vRg3hks71R",
        "outputId": "fe9869e8-84cf-4fc6-fdfa-f521ecdbdbfc"
      },
      "execution_count": null,
      "outputs": [
        {
          "output_type": "stream",
          "name": "stderr",
          "text": [
            "/usr/local/lib/python3.11/dist-packages/implicit/cpu/als.py:95: RuntimeWarning: OpenBLAS is configured to use 2 threads. It is highly recommended to disable its internal threadpool by setting the environment variable 'OPENBLAS_NUM_THREADS=1' or by calling 'threadpoolctl.threadpool_limits(1, \"blas\")'. Having OpenBLAS use a threadpool can lead to severe performance issues here.\n",
            "  check_blas_config()\n"
          ]
        },
        {
          "output_type": "display_data",
          "data": {
            "text/plain": [
              "  0%|          | 0/15 [00:00<?, ?it/s]"
            ],
            "application/vnd.jupyter.widget-view+json": {
              "version_major": 2,
              "version_minor": 0,
              "model_id": "4c1d52f4fa8b4413af45549f3aacb734"
            }
          },
          "metadata": {}
        }
      ]
    },
    {
      "cell_type": "markdown",
      "source": [
        "We used Artist MBIDs in our data file in order to be unique, so we need one final mapping which allows us to go from an artist MBID to a name."
      ],
      "metadata": {
        "id": "PwjMdI20PQ7o"
      }
    },
    {
      "cell_type": "code",
      "source": [
        "artist_map = lb.get_artist_map(os.path.join(data_root, \"musicbrainz_artist.csv\"))\n",
        "def format_artist(artist_id):\n",
        "    return f\"\"\"<a href=\"https://musicbrainz.org/artist/{artist_id}\">{artist_map.get(artist_id, \"unknown\")}</a> ({artist_id})\"\"\""
      ],
      "metadata": {
        "id": "JJMW-u9PPh-G"
      },
      "execution_count": null,
      "outputs": []
    },
    {
      "cell_type": "code",
      "source": [
        "# get related items for The Clash (MBID = 8f92558c-2baa-4758-8c38-615519e9deda)\n",
        "ids, scores = model.similar_items(lb.artist_index(matrix_artists, \"8f92558c-2baa-4758-8c38-615519e9deda\"), N=20)\n",
        "\n",
        "# use pandas for nicer formatting\n",
        "df = pd.DataFrame({\"artist\": [format_artist(a) for a in matrix_artists[ids]], \"score\": scores})"
      ],
      "metadata": {
        "id": "vcueuItGtCPM"
      },
      "execution_count": null,
      "outputs": []
    },
    {
      "cell_type": "code",
      "source": [
        "from IPython.display import HTML\n",
        "\n",
        "HTML(df.to_html(escape=False))"
      ],
      "metadata": {
        "id": "ct7XseQhyIdd"
      },
      "execution_count": null,
      "outputs": []
    }
  ]
}